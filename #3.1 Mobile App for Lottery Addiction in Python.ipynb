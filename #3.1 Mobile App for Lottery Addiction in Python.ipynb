{
 "cells": [
  {
   "cell_type": "markdown",
   "metadata": {},
   "source": [
    "# Mobile App for Lottery Addiction\n",
    "\n",
    "This project was set up with a fictional case, in which aimed at applying probability concepts that simulates a real-world scenerio.\n",
    "\n",
    "CASE: <br>\n",
    "Many people start playing the lottery for fun and gradually develop a habit, which evetually escalates into addiction. Like other compulsive gamblers, lottery addicts soon begin spreading from their savings and loans, they start to accumulate debts, and eventually engage in desperate behaviours like theft and other criminal  activities. \n",
    "\n",
    "A medical institute that aims to prevent and treat gambling addictions wants to build a dedicated mobile app to help lottery addicts better estimate their chances of winning. The institute has a team of engineers that will build the app, but they need us to create the logical core of the app and calculate probabilities. For the 1st version of app, they want us to focus on the 6/49 lottery and build functions that enables users to answer questions as such:\n",
    "- What is the probability of winning the big prize with a single ticket?\n",
    "- What is the probability of winning the big prize if we play 40 different tickets (or any other number)?\n",
    "- What is the probability of having at least 5 (or 4, or 3, or 2) winning numbers on a single ticket?\n",
    "\n",
    "The institute wants us to consider historical data coming from the national 6/49 lottery game in Canada. The [data set](https://www.kaggle.com/datascienceai/lottery-dataset) has data for 3,665 drawings, dating from 1982 to 2018. "
   ]
  },
  {
   "cell_type": "markdown",
   "metadata": {},
   "source": [
    "## Core Functions\n",
    "\n",
    "We are going to write 2 functions that we'll be using frequently:\n",
    "- *factorial()* - a function that calculates factorials\n",
    "- *combinations()* - a function that calculates combinations"
   ]
  },
  {
   "cell_type": "code",
   "execution_count": 1,
   "metadata": {},
   "outputs": [],
   "source": [
    "def factorial(n):\n",
    "    final_product=1\n",
    "    for i in range(n, 0, -1):\n",
    "        final_product *= i\n",
    "    return final_product\n",
    "\n",
    "def combinations(n,k):\n",
    "    numerator = factorial(n)\n",
    "    denominator = factorial(k) * factorial(n-k)\n",
    "    return numerator/denominator"
   ]
  },
  {
   "cell_type": "markdown",
   "metadata": {},
   "source": [
    "## One-ticket Probability\n",
    "\n",
    "We need to build a function that calculates the probability of winning the big prize for any given ticket. For each drawing, six numbers are drawn from a set of 49, and a player wins the big prize if the six numbers on their tickets match all six numbers. "
   ]
  },
  {
   "cell_type": "code",
   "execution_count": 11,
   "metadata": {},
   "outputs": [],
   "source": [
    "def one_ticket_prob(user_numbers):\n",
    "    n_combinations = combinations(49,6)\n",
    "    probability_one_ticket = 1/n_combinations\n",
    "    percentage_form =probability_one_ticket *100\n",
    "    \n",
    "    print('''Your chances to win the big prize with the numbers {} are {:.7f}%. \n",
    "In other words, you have a 1 in {:,} chances to win.'''.format(user_numbers, percentage_form, int(n_combinations)))"
   ]
  },
  {
   "cell_type": "markdown",
   "metadata": {},
   "source": [
    "We now test a bit the function on 2 different outputs"
   ]
  },
  {
   "cell_type": "code",
   "execution_count": 12,
   "metadata": {},
   "outputs": [
    {
     "name": "stdout",
     "output_type": "stream",
     "text": [
      "Your chances to win the big prize with the numbers [2, 43, 22, 23, 11, 5] are 0.0000072%. \n",
      "In other words, you have a 1 in 13,983,816 chances to win.\n"
     ]
    }
   ],
   "source": [
    "test_input_1 =[2, 43, 22, 23, 11, 5]\n",
    "one_ticket_prob(test_input_1)"
   ]
  },
  {
   "cell_type": "markdown",
   "metadata": {},
   "source": [
    "## Historical Data Check for Canada Lottery"
   ]
  },
  {
   "cell_type": "code",
   "execution_count": 20,
   "metadata": {
    "scrolled": false
   },
   "outputs": [
    {
     "name": "stdout",
     "output_type": "stream",
     "text": [
      "<class 'pandas.core.frame.DataFrame'>\n",
      "RangeIndex: 3665 entries, 0 to 3664\n",
      "Data columns (total 11 columns):\n",
      "PRODUCT            3665 non-null int64\n",
      "DRAW NUMBER        3665 non-null int64\n",
      "SEQUENCE NUMBER    3665 non-null int64\n",
      "DRAW DATE          3665 non-null object\n",
      "NUMBER DRAWN 1     3665 non-null int64\n",
      "NUMBER DRAWN 2     3665 non-null int64\n",
      "NUMBER DRAWN 3     3665 non-null int64\n",
      "NUMBER DRAWN 4     3665 non-null int64\n",
      "NUMBER DRAWN 5     3665 non-null int64\n",
      "NUMBER DRAWN 6     3665 non-null int64\n",
      "BONUS NUMBER       3665 non-null int64\n",
      "dtypes: int64(10), object(1)\n",
      "memory usage: 315.1+ KB\n"
     ]
    },
    {
     "data": {
      "text/html": [
       "<div>\n",
       "<style scoped>\n",
       "    .dataframe tbody tr th:only-of-type {\n",
       "        vertical-align: middle;\n",
       "    }\n",
       "\n",
       "    .dataframe tbody tr th {\n",
       "        vertical-align: top;\n",
       "    }\n",
       "\n",
       "    .dataframe thead th {\n",
       "        text-align: right;\n",
       "    }\n",
       "</style>\n",
       "<table border=\"1\" class=\"dataframe\">\n",
       "  <thead>\n",
       "    <tr style=\"text-align: right;\">\n",
       "      <th></th>\n",
       "      <th>PRODUCT</th>\n",
       "      <th>DRAW NUMBER</th>\n",
       "      <th>SEQUENCE NUMBER</th>\n",
       "      <th>DRAW DATE</th>\n",
       "      <th>NUMBER DRAWN 1</th>\n",
       "      <th>NUMBER DRAWN 2</th>\n",
       "      <th>NUMBER DRAWN 3</th>\n",
       "      <th>NUMBER DRAWN 4</th>\n",
       "      <th>NUMBER DRAWN 5</th>\n",
       "      <th>NUMBER DRAWN 6</th>\n",
       "      <th>BONUS NUMBER</th>\n",
       "    </tr>\n",
       "  </thead>\n",
       "  <tbody>\n",
       "    <tr>\n",
       "      <td>0</td>\n",
       "      <td>649</td>\n",
       "      <td>1</td>\n",
       "      <td>0</td>\n",
       "      <td>6/12/1982</td>\n",
       "      <td>3</td>\n",
       "      <td>11</td>\n",
       "      <td>12</td>\n",
       "      <td>14</td>\n",
       "      <td>41</td>\n",
       "      <td>43</td>\n",
       "      <td>13</td>\n",
       "    </tr>\n",
       "    <tr>\n",
       "      <td>1</td>\n",
       "      <td>649</td>\n",
       "      <td>2</td>\n",
       "      <td>0</td>\n",
       "      <td>6/19/1982</td>\n",
       "      <td>8</td>\n",
       "      <td>33</td>\n",
       "      <td>36</td>\n",
       "      <td>37</td>\n",
       "      <td>39</td>\n",
       "      <td>41</td>\n",
       "      <td>9</td>\n",
       "    </tr>\n",
       "    <tr>\n",
       "      <td>2</td>\n",
       "      <td>649</td>\n",
       "      <td>3</td>\n",
       "      <td>0</td>\n",
       "      <td>6/26/1982</td>\n",
       "      <td>1</td>\n",
       "      <td>6</td>\n",
       "      <td>23</td>\n",
       "      <td>24</td>\n",
       "      <td>27</td>\n",
       "      <td>39</td>\n",
       "      <td>34</td>\n",
       "    </tr>\n",
       "    <tr>\n",
       "      <td>3</td>\n",
       "      <td>649</td>\n",
       "      <td>4</td>\n",
       "      <td>0</td>\n",
       "      <td>7/3/1982</td>\n",
       "      <td>3</td>\n",
       "      <td>9</td>\n",
       "      <td>10</td>\n",
       "      <td>13</td>\n",
       "      <td>20</td>\n",
       "      <td>43</td>\n",
       "      <td>34</td>\n",
       "    </tr>\n",
       "    <tr>\n",
       "      <td>4</td>\n",
       "      <td>649</td>\n",
       "      <td>5</td>\n",
       "      <td>0</td>\n",
       "      <td>7/10/1982</td>\n",
       "      <td>5</td>\n",
       "      <td>14</td>\n",
       "      <td>21</td>\n",
       "      <td>31</td>\n",
       "      <td>34</td>\n",
       "      <td>47</td>\n",
       "      <td>45</td>\n",
       "    </tr>\n",
       "  </tbody>\n",
       "</table>\n",
       "</div>"
      ],
      "text/plain": [
       "   PRODUCT  DRAW NUMBER  SEQUENCE NUMBER  DRAW DATE  NUMBER DRAWN 1  \\\n",
       "0      649            1                0  6/12/1982               3   \n",
       "1      649            2                0  6/19/1982               8   \n",
       "2      649            3                0  6/26/1982               1   \n",
       "3      649            4                0   7/3/1982               3   \n",
       "4      649            5                0  7/10/1982               5   \n",
       "\n",
       "   NUMBER DRAWN 2  NUMBER DRAWN 3  NUMBER DRAWN 4  NUMBER DRAWN 5  \\\n",
       "0              11              12              14              41   \n",
       "1              33              36              37              39   \n",
       "2               6              23              24              27   \n",
       "3               9              10              13              20   \n",
       "4              14              21              31              34   \n",
       "\n",
       "   NUMBER DRAWN 6  BONUS NUMBER  \n",
       "0              43            13  \n",
       "1              41             9  \n",
       "2              39            34  \n",
       "3              43            34  \n",
       "4              47            45  "
      ]
     },
     "execution_count": 20,
     "metadata": {},
     "output_type": "execute_result"
    }
   ],
   "source": [
    "import pandas as pd\n",
    "\n",
    "lottery_canada = pd.read_csv('649.csv')\n",
    "lottery_canada.info()\n",
    "lottery_canada.head()"
   ]
  },
  {
   "cell_type": "markdown",
   "metadata": {},
   "source": [
    "### Function for Historical Data Check\n",
    "\n",
    "We will begin by extracting all the winning numbers from the lottery data set. The extract_numbers() function will go over each row of the dataframe and extract the 6 winning numbers as a Python set."
   ]
  },
  {
   "cell_type": "code",
   "execution_count": 24,
   "metadata": {},
   "outputs": [
    {
     "data": {
      "text/plain": [
       "0    {3, 41, 11, 12, 43, 14}\n",
       "1    {33, 36, 37, 39, 8, 41}\n",
       "2     {1, 6, 39, 23, 24, 27}\n",
       "3     {3, 9, 10, 43, 13, 20}\n",
       "4    {34, 5, 14, 47, 21, 31}\n",
       "dtype: object"
      ]
     },
     "execution_count": 24,
     "metadata": {},
     "output_type": "execute_result"
    }
   ],
   "source": [
    "def extract_num(row):\n",
    "    row = row[4:10]\n",
    "    row = set(row.values)\n",
    "    return row\n",
    "\n",
    "winning_num = lottery_canada.apply(extract_num, axis=1)\n",
    "winning_num.head()"
   ]
  },
  {
   "cell_type": "code",
   "execution_count": 32,
   "metadata": {},
   "outputs": [],
   "source": [
    "def check_historical_occurrence(user_numbers, historical_numbers):\n",
    "    '''\n",
    "    user_numbers: a Python List\n",
    "    historical numbers: a pandas Series\n",
    "    '''\n",
    "    user_numbers_set = set(user_numbers)\n",
    "    check_occurrence = historical_numbers == user_numbers_set\n",
    "    n_occurrences = check_occurrence.sum()\n",
    "    \n",
    "    if n_occurrences == 0:\n",
    "        print('''The combination {} has never occured.\n",
    "This does not mean it is more likely to occur now. Your chances to win the big prize in the next drawing using the combination {} are 0.0000072%.\n",
    "In other words, you have a 1 in 13,983,816 chances to win.\n",
    "        '''.format(user_numbers, user_numbers))\n",
    "    else:\n",
    "        print('''The number of times combination {} has occured in the past is {}.\n",
    "Your chances to win the big prize in the next drawing using the combination {} are 0.0000072%.\n",
    "In other words, you have a 1 in 13,983,816 chances to win.'''.format(user_numbers, n_occurrences, user_numbers))"
   ]
  },
  {
   "cell_type": "code",
   "execution_count": 33,
   "metadata": {},
   "outputs": [
    {
     "name": "stdout",
     "output_type": "stream",
     "text": [
      "The combination [31, 32, 33, 34, 35, 36] has never occured.\n",
      "This does not mean it is more likely to occur now. Your chances to win the big prize in the next drawing using the combination [31, 32, 33, 34, 35, 36] are 0.0000072%.\n",
      "In other words, you have a 1 in 13,983,816 chances to win.\n",
      "        \n"
     ]
    }
   ],
   "source": [
    "test_input_2 = [31,32,33,34,35,36]\n",
    "check_historical_occurrence(test_input_2, winning_num)"
   ]
  },
  {
   "cell_type": "code",
   "execution_count": 34,
   "metadata": {},
   "outputs": [
    {
     "name": "stdout",
     "output_type": "stream",
     "text": [
      "The number of times combination [3, 41, 11, 12, 43, 14] has occured in the past is 1.\n",
      "Your chances to win the big prize in the next drawing using the combination [3, 41, 11, 12, 43, 14] are 0.0000072%.\n",
      "In other words, you have a 1 in 13,983,816 chances to win.\n"
     ]
    }
   ],
   "source": [
    "test_input_3 =[3, 41, 11, 12, 43, 14]\n",
    "check_historical_occurrence(test_input_3, winning_num)"
   ]
  },
  {
   "cell_type": "markdown",
   "metadata": {},
   "source": [
    "## Multi-ticket Probability\n",
    "\n",
    "For the 1st version of the application, users should also be able to find the probability of winning if they play multiple different tickets. For instance, someone might intend to play 15 different tickets and they want to know the probability of winning the big prize."
   ]
  },
  {
   "cell_type": "code",
   "execution_count": 37,
   "metadata": {},
   "outputs": [],
   "source": [
    "def multi_ticket_probability(n_tickets):\n",
    "    n_combinations = combinations(49,6)\n",
    "    probability = n_tickets/n_combinations\n",
    "    percentage_form = probability * 100\n",
    "    \n",
    "    if n_tickets == 1:\n",
    "        print('''Your chances to win the big prize with one ticket are {:.6f}%. \n",
    "In other words, you have a 1 in {:,} chances to win.'''.format(percentage_form, int(n_combinations)))\n",
    "    else:\n",
    "        combination_simplified = round(n_combinations/n_tickets)\n",
    "        print('''Your chances to win the big prize with {:,} different tickets are {:.7f}%.\n",
    "In other words, you have a 1 in {:,} chances to win.'''.format(n_tickets,percentage_form, combination_simplified))"
   ]
  },
  {
   "cell_type": "code",
   "execution_count": 39,
   "metadata": {},
   "outputs": [
    {
     "name": "stdout",
     "output_type": "stream",
     "text": [
      "Your chances to win the big prize with one ticket are 0.000007%. \n",
      "In other words, you have a 1 in 13,983,816 chances to win.\n",
      "------------------------------\n",
      "Your chances to win the big prize with 20 different tickets are 0.0001430%.\n",
      "In other words, you have a 1 in 699,191 chances to win.\n",
      "------------------------------\n",
      "Your chances to win the big prize with 300 different tickets are 0.0021453%.\n",
      "In other words, you have a 1 in 46,613 chances to win.\n",
      "------------------------------\n",
      "Your chances to win the big prize with 4,000 different tickets are 0.0286045%.\n",
      "In other words, you have a 1 in 3,496 chances to win.\n",
      "------------------------------\n",
      "Your chances to win the big prize with 50,000 different tickets are 0.3575562%.\n",
      "In other words, you have a 1 in 280 chances to win.\n",
      "------------------------------\n",
      "Your chances to win the big prize with 600,000 different tickets are 4.2906743%.\n",
      "In other words, you have a 1 in 23 chances to win.\n",
      "------------------------------\n"
     ]
    }
   ],
   "source": [
    "test_input_4 = [1, 20, 300, 4000, 50000, 600000]\n",
    "\n",
    "for test in test_input_4:\n",
    "    multi_ticket_probability(test)\n",
    "    print('-'*30)"
   ]
  },
  {
   "cell_type": "markdown",
   "metadata": {},
   "source": [
    "## Less Winning Numbers Function\n",
    "\n",
    "In most 6/49 lotteries, there are smaller prizes if a player's ticket match 2, 3, 4 or 5 of 6 numbers drawn. This means that in the 1st version of the app, we should find the probabilities of having 2, 3, 4, or 5 winning numbers. \n",
    "\n",
    "It should be taken into consideration that specific combination on the ticket is irrelevant and we only need the integer between 2 and 5 representing number of winning numbers expected. "
   ]
  },
  {
   "cell_type": "code",
   "execution_count": 44,
   "metadata": {},
   "outputs": [],
   "source": [
    "def prob_less_winning_num(n_winning_num):\n",
    "    n_combinations_ticket = combinations(6, n_winning_num)\n",
    "    n_combinations_remaining = combinations(43, 6 - n_winning_num)\n",
    "    successful_outcomes = n_combinations_ticket * n_combinations_remaining\n",
    "    n_combinations_total = combinations(49,6)\n",
    "    probability = successful_outcomes/n_combinations_total\n",
    "    probability_percentage = probability * 100\n",
    "    combinations_simplified = round(n_combinations_total/successful_outcomes)\n",
    "    \n",
    "    print('''Your chances of having {} winning numbers with this ticket are {:.6f}%.\n",
    "In other words, you have a 1 in {:,} chances to win.'''.format(n_winning_num, probability_percentage, int(combinations_simplified)))"
   ]
  },
  {
   "cell_type": "code",
   "execution_count": 45,
   "metadata": {},
   "outputs": [
    {
     "name": "stdout",
     "output_type": "stream",
     "text": [
      "Your chances of having 2 winning numbers with this ticket are 13.237803%.\n",
      "In other words, you have a 1 in 8 chances to win.\n",
      "------------------------------\n",
      "Your chances of having 3 winning numbers with this ticket are 1.765040%.\n",
      "In other words, you have a 1 in 57 chances to win.\n",
      "------------------------------\n",
      "Your chances of having 4 winning numbers with this ticket are 0.096862%.\n",
      "In other words, you have a 1 in 1,032 chances to win.\n",
      "------------------------------\n",
      "Your chances of having 5 winning numbers with this ticket are 0.001845%.\n",
      "In other words, you have a 1 in 54,201 chances to win.\n",
      "------------------------------\n"
     ]
    }
   ],
   "source": [
    "for test in [2, 3, 4, 5]:\n",
    "    prob_less_winning_num(test)\n",
    "    print('-'*30)"
   ]
  },
  {
   "cell_type": "markdown",
   "metadata": {},
   "source": [
    "## CONCLUSION\n",
    "\n",
    "We have coded 4 main functions:\n",
    "- one_ticket_prob(): calculates the probability of winning the big prize with a single ticket.\n",
    "- check_historical_occurrence(): checks whether a certain combination has occurred in the Canada lottery data set.\n",
    "- multi_ticket_probability(): calculates the probability of any number of tickets between 1 and 13,983,816.\n",
    "- prob_less_winning_num(): calculates the probability of having 2,3,4, or 5 winning numbers. "
   ]
  }
 ],
 "metadata": {
  "kernelspec": {
   "display_name": "Python 3",
   "language": "python",
   "name": "python3"
  },
  "language_info": {
   "codemirror_mode": {
    "name": "ipython",
    "version": 3
   },
   "file_extension": ".py",
   "mimetype": "text/x-python",
   "name": "python",
   "nbconvert_exporter": "python",
   "pygments_lexer": "ipython3",
   "version": "3.7.4"
  }
 },
 "nbformat": 4,
 "nbformat_minor": 2
}
